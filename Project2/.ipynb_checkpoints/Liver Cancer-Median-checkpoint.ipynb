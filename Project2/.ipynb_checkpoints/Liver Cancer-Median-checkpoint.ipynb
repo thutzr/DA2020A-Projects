{
 "cells": [
  {
   "cell_type": "code",
   "execution_count": 1,
   "metadata": {},
   "outputs": [],
   "source": [
    "import numpy as np\n",
    "import pandas as pd\n",
    "import matplotlib.pyplot as plt"
   ]
  },
  {
   "cell_type": "code",
   "execution_count": 2,
   "metadata": {},
   "outputs": [],
   "source": [
    "from sklearn.impute import SimpleImputer\n",
    "from sklearn.decomposition import PCA\n",
    "from sklearn.model_selection import train_test_split\n",
    "from sklearn.linear_model import LogisticRegression\n",
    "from sklearn.metrics import accuracy_score\n",
    "from sklearn.model_selection import KFold\n",
    "from sklearn.metrics import roc_auc_score\n",
    "from imblearn.over_sampling import SMOTE"
   ]
  },
  {
   "cell_type": "code",
   "execution_count": 3,
   "metadata": {},
   "outputs": [],
   "source": [
    "path = './data.csv'\n",
    "cancerData = pd.read_csv(path)\n",
    "cancerData = cancerData.drop(1733)"
   ]
  },
  {
   "cell_type": "markdown",
   "metadata": {},
   "source": [
    "## Recurrence Rate"
   ]
  },
  {
   "cell_type": "code",
   "execution_count": 4,
   "metadata": {},
   "outputs": [
    {
     "data": {
      "text/plain": [
       "0.5626081938834391"
      ]
     },
     "execution_count": 4,
     "metadata": {},
     "output_type": "execute_result"
    }
   ],
   "source": [
    "temp = cancerData['是否复发（是1 否0）'].fillna(0)\n",
    "rate = sum(temp)/(len(temp))\n",
    "rate"
   ]
  },
  {
   "cell_type": "code",
   "execution_count": 5,
   "metadata": {},
   "outputs": [
    {
     "data": {
      "text/plain": [
       "0.44143104443162146"
      ]
     },
     "execution_count": 5,
     "metadata": {},
     "output_type": "execute_result"
    }
   ],
   "source": [
    "# early recurrence\n",
    "temp = cancerData['是否为早期复发'].fillna(0)\n",
    "rate = sum(temp)/len(temp)\n",
    "rate"
   ]
  },
  {
   "cell_type": "markdown",
   "metadata": {},
   "source": [
    "# Grouping Non-Numeric Data Value"
   ]
  },
  {
   "cell_type": "code",
   "execution_count": 6,
   "metadata": {},
   "outputs": [
    {
     "name": "stderr",
     "output_type": "stream",
     "text": [
      "C:\\ProgramData\\Anaconda3\\lib\\site-packages\\ipykernel_launcher.py:2: SettingWithCopyWarning: \n",
      "A value is trying to be set on a copy of a slice from a DataFrame\n",
      "\n",
      "See the caveats in the documentation: http://pandas.pydata.org/pandas-docs/stable/user_guide/indexing.html#returning-a-view-versus-a-copy\n",
      "  \n"
     ]
    },
    {
     "data": {
      "text/html": [
       "<div>\n",
       "<style scoped>\n",
       "    .dataframe tbody tr th:only-of-type {\n",
       "        vertical-align: middle;\n",
       "    }\n",
       "\n",
       "    .dataframe tbody tr th {\n",
       "        vertical-align: top;\n",
       "    }\n",
       "\n",
       "    .dataframe thead th {\n",
       "        text-align: right;\n",
       "    }\n",
       "</style>\n",
       "<table border=\"1\" class=\"dataframe\">\n",
       "  <thead>\n",
       "    <tr style=\"text-align: right;\">\n",
       "      <th></th>\n",
       "      <th>ID</th>\n",
       "      <th>性别（1男0女）</th>\n",
       "      <th>年龄</th>\n",
       "      <th>肿瘤大小a（cm）</th>\n",
       "      <th>肿瘤大小b（cm）</th>\n",
       "      <th>肿瘤大小c（cm）</th>\n",
       "      <th>肿瘤数量</th>\n",
       "      <th>肝硬化类型（0无乙肝1丙肝2酒精3其他4）</th>\n",
       "      <th>肝外转移（无0有1）</th>\n",
       "      <th>Child分级</th>\n",
       "      <th>...</th>\n",
       "      <th>术前低密度脂蛋白</th>\n",
       "      <th>消融时间（s）</th>\n",
       "      <th>功率（W）</th>\n",
       "      <th>酒精消融（有1无0）</th>\n",
       "      <th>并发症（有1无0）</th>\n",
       "      <th>严重并发症</th>\n",
       "      <th>完全消融（是1否0）</th>\n",
       "      <th>是否复发（是1 否0）</th>\n",
       "      <th>随访时间(单位：月)</th>\n",
       "      <th>是否为早期复发</th>\n",
       "    </tr>\n",
       "  </thead>\n",
       "  <tbody>\n",
       "    <tr>\n",
       "      <td>0</td>\n",
       "      <td>1.0</td>\n",
       "      <td>1</td>\n",
       "      <td>39</td>\n",
       "      <td>2.5</td>\n",
       "      <td>2.2</td>\n",
       "      <td>NaN</td>\n",
       "      <td>3.0</td>\n",
       "      <td>1.0</td>\n",
       "      <td>0.0</td>\n",
       "      <td>A</td>\n",
       "      <td>...</td>\n",
       "      <td>NaN</td>\n",
       "      <td>1020.0</td>\n",
       "      <td>50.0</td>\n",
       "      <td>0.0</td>\n",
       "      <td>0.0</td>\n",
       "      <td>0</td>\n",
       "      <td>1.0</td>\n",
       "      <td>1.0</td>\n",
       "      <td>33.80</td>\n",
       "      <td>0.0</td>\n",
       "    </tr>\n",
       "    <tr>\n",
       "      <td>1</td>\n",
       "      <td>2.0</td>\n",
       "      <td>1</td>\n",
       "      <td>58</td>\n",
       "      <td>4.0</td>\n",
       "      <td>2.3</td>\n",
       "      <td>NaN</td>\n",
       "      <td>2.0</td>\n",
       "      <td>1.0</td>\n",
       "      <td>0.0</td>\n",
       "      <td>A</td>\n",
       "      <td>...</td>\n",
       "      <td>1.84</td>\n",
       "      <td>840.0</td>\n",
       "      <td>50.0</td>\n",
       "      <td>1.0</td>\n",
       "      <td>1.0</td>\n",
       "      <td>0</td>\n",
       "      <td>1.0</td>\n",
       "      <td>1.0</td>\n",
       "      <td>20.00</td>\n",
       "      <td>1.0</td>\n",
       "    </tr>\n",
       "    <tr>\n",
       "      <td>2</td>\n",
       "      <td>3.0</td>\n",
       "      <td>1</td>\n",
       "      <td>47</td>\n",
       "      <td>2.5</td>\n",
       "      <td>2.1</td>\n",
       "      <td>NaN</td>\n",
       "      <td>4.0</td>\n",
       "      <td>0.0</td>\n",
       "      <td>1.0</td>\n",
       "      <td>A</td>\n",
       "      <td>...</td>\n",
       "      <td>NaN</td>\n",
       "      <td>480.0</td>\n",
       "      <td>50.0</td>\n",
       "      <td>0.0</td>\n",
       "      <td>0.0</td>\n",
       "      <td>0</td>\n",
       "      <td>1.0</td>\n",
       "      <td>1.0</td>\n",
       "      <td>2.57</td>\n",
       "      <td>1.0</td>\n",
       "    </tr>\n",
       "    <tr>\n",
       "      <td>3</td>\n",
       "      <td>4.0</td>\n",
       "      <td>1</td>\n",
       "      <td>53</td>\n",
       "      <td>3.4</td>\n",
       "      <td>3.2</td>\n",
       "      <td>NaN</td>\n",
       "      <td>28.0</td>\n",
       "      <td>0.0</td>\n",
       "      <td>0.0</td>\n",
       "      <td>A</td>\n",
       "      <td>...</td>\n",
       "      <td>NaN</td>\n",
       "      <td>660.0</td>\n",
       "      <td>50.0</td>\n",
       "      <td>0.0</td>\n",
       "      <td>1.0</td>\n",
       "      <td>0</td>\n",
       "      <td>1.0</td>\n",
       "      <td>1.0</td>\n",
       "      <td>2.33</td>\n",
       "      <td>1.0</td>\n",
       "    </tr>\n",
       "    <tr>\n",
       "      <td>4</td>\n",
       "      <td>5.0</td>\n",
       "      <td>0</td>\n",
       "      <td>46</td>\n",
       "      <td>3.6</td>\n",
       "      <td>2.9</td>\n",
       "      <td>NaN</td>\n",
       "      <td>1.0</td>\n",
       "      <td>1.0</td>\n",
       "      <td>0.0</td>\n",
       "      <td>B</td>\n",
       "      <td>...</td>\n",
       "      <td>NaN</td>\n",
       "      <td>780.0</td>\n",
       "      <td>50.0</td>\n",
       "      <td>1.0</td>\n",
       "      <td>1.0</td>\n",
       "      <td>0</td>\n",
       "      <td>1.0</td>\n",
       "      <td>0.0</td>\n",
       "      <td>100.97</td>\n",
       "      <td>0.0</td>\n",
       "    </tr>\n",
       "    <tr>\n",
       "      <td>5</td>\n",
       "      <td>6.0</td>\n",
       "      <td>1</td>\n",
       "      <td>53</td>\n",
       "      <td>2.4</td>\n",
       "      <td>2.1</td>\n",
       "      <td>NaN</td>\n",
       "      <td>1.0</td>\n",
       "      <td>1.0</td>\n",
       "      <td>0.0</td>\n",
       "      <td>B</td>\n",
       "      <td>...</td>\n",
       "      <td>NaN</td>\n",
       "      <td>510.0</td>\n",
       "      <td>50.0</td>\n",
       "      <td>0.0</td>\n",
       "      <td>0.0</td>\n",
       "      <td>0</td>\n",
       "      <td>1.0</td>\n",
       "      <td>1.0</td>\n",
       "      <td>61.90</td>\n",
       "      <td>0.0</td>\n",
       "    </tr>\n",
       "    <tr>\n",
       "      <td>6</td>\n",
       "      <td>7.0</td>\n",
       "      <td>1</td>\n",
       "      <td>65</td>\n",
       "      <td>6.2</td>\n",
       "      <td>3.9</td>\n",
       "      <td>NaN</td>\n",
       "      <td>1.0</td>\n",
       "      <td>1.0</td>\n",
       "      <td>0.0</td>\n",
       "      <td>B</td>\n",
       "      <td>...</td>\n",
       "      <td>NaN</td>\n",
       "      <td>2250.0</td>\n",
       "      <td>60.0</td>\n",
       "      <td>1.0</td>\n",
       "      <td>1.0</td>\n",
       "      <td>1</td>\n",
       "      <td>1.0</td>\n",
       "      <td>1.0</td>\n",
       "      <td>5.37</td>\n",
       "      <td>1.0</td>\n",
       "    </tr>\n",
       "    <tr>\n",
       "      <td>7</td>\n",
       "      <td>8.0</td>\n",
       "      <td>1</td>\n",
       "      <td>58</td>\n",
       "      <td>3.5</td>\n",
       "      <td>3.0</td>\n",
       "      <td>NaN</td>\n",
       "      <td>1.0</td>\n",
       "      <td>1.0</td>\n",
       "      <td>0.0</td>\n",
       "      <td>A</td>\n",
       "      <td>...</td>\n",
       "      <td>NaN</td>\n",
       "      <td>870.0</td>\n",
       "      <td>50.0</td>\n",
       "      <td>0.0</td>\n",
       "      <td>0.0</td>\n",
       "      <td>0</td>\n",
       "      <td>1.0</td>\n",
       "      <td>1.0</td>\n",
       "      <td>0.87</td>\n",
       "      <td>1.0</td>\n",
       "    </tr>\n",
       "    <tr>\n",
       "      <td>8</td>\n",
       "      <td>9.0</td>\n",
       "      <td>1</td>\n",
       "      <td>39</td>\n",
       "      <td>1.9</td>\n",
       "      <td>1.8</td>\n",
       "      <td>NaN</td>\n",
       "      <td>3.0</td>\n",
       "      <td>0.0</td>\n",
       "      <td>0.0</td>\n",
       "      <td>A</td>\n",
       "      <td>...</td>\n",
       "      <td>NaN</td>\n",
       "      <td>690.0</td>\n",
       "      <td>40.0</td>\n",
       "      <td>1.0</td>\n",
       "      <td>0.0</td>\n",
       "      <td>0</td>\n",
       "      <td>1.0</td>\n",
       "      <td>1.0</td>\n",
       "      <td>10.43</td>\n",
       "      <td>1.0</td>\n",
       "    </tr>\n",
       "    <tr>\n",
       "      <td>9</td>\n",
       "      <td>10.0</td>\n",
       "      <td>1</td>\n",
       "      <td>39</td>\n",
       "      <td>1.9</td>\n",
       "      <td>1.9</td>\n",
       "      <td>NaN</td>\n",
       "      <td>2.0</td>\n",
       "      <td>1.0</td>\n",
       "      <td>0.0</td>\n",
       "      <td>A</td>\n",
       "      <td>...</td>\n",
       "      <td>NaN</td>\n",
       "      <td>420.0</td>\n",
       "      <td>0.0</td>\n",
       "      <td>1.0</td>\n",
       "      <td>0.0</td>\n",
       "      <td>0</td>\n",
       "      <td>1.0</td>\n",
       "      <td>1.0</td>\n",
       "      <td>65.93</td>\n",
       "      <td>0.0</td>\n",
       "    </tr>\n",
       "  </tbody>\n",
       "</table>\n",
       "<p>10 rows × 47 columns</p>\n",
       "</div>"
      ],
      "text/plain": [
       "     ID 性别（1男0女）  年龄  肿瘤大小a（cm）  肿瘤大小b（cm）  肿瘤大小c（cm）  肿瘤数量  \\\n",
       "0   1.0        1  39        2.5        2.2        NaN   3.0   \n",
       "1   2.0        1  58        4.0        2.3        NaN   2.0   \n",
       "2   3.0        1  47        2.5        2.1        NaN   4.0   \n",
       "3   4.0        1  53        3.4        3.2        NaN  28.0   \n",
       "4   5.0        0  46        3.6        2.9        NaN   1.0   \n",
       "5   6.0        1  53        2.4        2.1        NaN   1.0   \n",
       "6   7.0        1  65        6.2        3.9        NaN   1.0   \n",
       "7   8.0        1  58        3.5        3.0        NaN   1.0   \n",
       "8   9.0        1  39        1.9        1.8        NaN   3.0   \n",
       "9  10.0        1  39        1.9        1.9        NaN   2.0   \n",
       "\n",
       "   肝硬化类型（0无乙肝1丙肝2酒精3其他4）  肝外转移（无0有1） Child分级  ...  术前低密度脂蛋白  消融时间（s）  功率（W）  \\\n",
       "0                    1.0         0.0       A  ...       NaN   1020.0   50.0   \n",
       "1                    1.0         0.0       A  ...      1.84    840.0   50.0   \n",
       "2                    0.0         1.0       A  ...       NaN    480.0   50.0   \n",
       "3                    0.0         0.0       A  ...       NaN    660.0   50.0   \n",
       "4                    1.0         0.0       B  ...       NaN    780.0   50.0   \n",
       "5                    1.0         0.0       B  ...       NaN    510.0   50.0   \n",
       "6                    1.0         0.0       B  ...       NaN   2250.0   60.0   \n",
       "7                    1.0         0.0       A  ...       NaN    870.0   50.0   \n",
       "8                    0.0         0.0       A  ...       NaN    690.0   40.0   \n",
       "9                    1.0         0.0       A  ...       NaN    420.0    0.0   \n",
       "\n",
       "   酒精消融（有1无0）  并发症（有1无0）  严重并发症  完全消融（是1否0）  是否复发（是1 否0）  随访时间(单位：月)  是否为早期复发  \n",
       "0         0.0        0.0      0         1.0          1.0       33.80      0.0  \n",
       "1         1.0        1.0      0         1.0          1.0       20.00      1.0  \n",
       "2         0.0        0.0      0         1.0          1.0        2.57      1.0  \n",
       "3         0.0        1.0      0         1.0          1.0        2.33      1.0  \n",
       "4         1.0        1.0      0         1.0          0.0      100.97      0.0  \n",
       "5         0.0        0.0      0         1.0          1.0       61.90      0.0  \n",
       "6         1.0        1.0      1         1.0          1.0        5.37      1.0  \n",
       "7         0.0        0.0      0         1.0          1.0        0.87      1.0  \n",
       "8         1.0        0.0      0         1.0          1.0       10.43      1.0  \n",
       "9         1.0        0.0      0         1.0          1.0       65.93      0.0  \n",
       "\n",
       "[10 rows x 47 columns]"
      ]
     },
     "execution_count": 6,
     "metadata": {},
     "output_type": "execute_result"
    }
   ],
   "source": [
    "textIdx = cancerData['严重并发症']!='0'\n",
    "cancerData['严重并发症'][textIdx] = 1\n",
    "cancerData.head(10)"
   ]
  },
  {
   "cell_type": "code",
   "execution_count": 7,
   "metadata": {},
   "outputs": [
    {
     "name": "stderr",
     "output_type": "stream",
     "text": [
      "C:\\ProgramData\\Anaconda3\\lib\\site-packages\\ipykernel_launcher.py:1: SettingWithCopyWarning: \n",
      "A value is trying to be set on a copy of a slice from a DataFrame\n",
      "\n",
      "See the caveats in the documentation: http://pandas.pydata.org/pandas-docs/stable/user_guide/indexing.html#returning-a-view-versus-a-copy\n",
      "  \"\"\"Entry point for launching an IPython kernel.\n",
      "C:\\ProgramData\\Anaconda3\\lib\\site-packages\\ipykernel_launcher.py:2: SettingWithCopyWarning: \n",
      "A value is trying to be set on a copy of a slice from a DataFrame\n",
      "\n",
      "See the caveats in the documentation: http://pandas.pydata.org/pandas-docs/stable/user_guide/indexing.html#returning-a-view-versus-a-copy\n",
      "  \n",
      "C:\\ProgramData\\Anaconda3\\lib\\site-packages\\ipykernel_launcher.py:3: SettingWithCopyWarning: \n",
      "A value is trying to be set on a copy of a slice from a DataFrame\n",
      "\n",
      "See the caveats in the documentation: http://pandas.pydata.org/pandas-docs/stable/user_guide/indexing.html#returning-a-view-versus-a-copy\n",
      "  This is separate from the ipykernel package so we can avoid doing imports until\n"
     ]
    }
   ],
   "source": [
    "cancerData['Child分级'][cancerData['Child分级']=='A'] = 0\n",
    "cancerData['Child分级'][cancerData['Child分级']=='B'] = 1\n",
    "cancerData['Child分级'][cancerData['Child分级']=='C'] = 2"
   ]
  },
  {
   "cell_type": "code",
   "execution_count": 8,
   "metadata": {},
   "outputs": [
    {
     "data": {
      "text/plain": [
       "ID                       float64\n",
       "性别（1男0女）                   int64\n",
       "年龄                       float64\n",
       "肿瘤大小a（cm）                float64\n",
       "肿瘤大小b（cm）                float64\n",
       "肿瘤大小c（cm）                float64\n",
       "肿瘤数量                     float64\n",
       "肝硬化类型（0无乙肝1丙肝2酒精3其他4）    float64\n",
       "肝外转移（无0有1）               float64\n",
       "Child分级                  float64\n",
       "病理（高分化0中1低2无3）           float64\n",
       "腹水（无0有1）                 float64\n",
       "血管癌栓（无0有1）               float64\n",
       "术前ALT                    float64\n",
       "术前AST                    float64\n",
       "术前GT                     float64\n",
       "术前AFP                    float64\n",
       "术前碱性磷酸酶                  float64\n",
       "术前总蛋白                    float64\n",
       "术前白蛋白                    float64\n",
       "术前总胆红素                   float64\n",
       "术前直胆红素                   float64\n",
       "术前肌酐                     float64\n",
       "术前血糖                     float64\n",
       "术前胆碱酯酶                   float64\n",
       "术前血红蛋白                   float64\n",
       "术前红细胞                    float64\n",
       "术前血小板                    float64\n",
       "术前淋巴细胞                   float64\n",
       "术前白细胞                    float64\n",
       "术前中性粒细胞                  float64\n",
       "术前凝血酶原时间                 float64\n",
       "术前凝血酶原活动度                float64\n",
       "术前INR                    float64\n",
       "术前甘油三酯                   float64\n",
       "术前胆固醇                    float64\n",
       "术前高密度脂蛋白                 float64\n",
       "术前低密度脂蛋白                 float64\n",
       "消融时间（s）                  float64\n",
       "功率（W）                    float64\n",
       "酒精消融（有1无0）               float64\n",
       "并发症（有1无0）                float64\n",
       "严重并发症                      int64\n",
       "完全消融（是1否0）               float64\n",
       "是否复发（是1 否0）              float64\n",
       "随访时间(单位：月)               float64\n",
       "是否为早期复发                  float64\n",
       "dtype: object"
      ]
     },
     "execution_count": 8,
     "metadata": {},
     "output_type": "execute_result"
    }
   ],
   "source": [
    "cancerData = cancerData.apply(pd.to_numeric,errors = 'coerce')\n",
    "cancerData.dtypes"
   ]
  },
  {
   "cell_type": "markdown",
   "metadata": {},
   "source": [
    "# Fill in Missing Value with Mean"
   ]
  },
  {
   "cell_type": "markdown",
   "metadata": {},
   "source": [
    "## Number of Missing Values"
   ]
  },
  {
   "cell_type": "code",
   "execution_count": 9,
   "metadata": {},
   "outputs": [
    {
     "data": {
      "text/plain": [
       "ID                       0.000000\n",
       "性别（1男0女）                 0.000000\n",
       "年龄                       0.001731\n",
       "肿瘤大小a（cm）                0.013272\n",
       "肿瘤大小b（cm）                0.024235\n",
       "肿瘤大小c（cm）                0.702827\n",
       "肿瘤数量                     0.001154\n",
       "肝硬化类型（0无乙肝1丙肝2酒精3其他4）    0.007501\n",
       "肝外转移（无0有1）               0.000000\n",
       "Child分级                  0.001154\n",
       "病理（高分化0中1低2无3）           0.000000\n",
       "腹水（无0有1）                 0.000000\n",
       "血管癌栓（无0有1）               0.000000\n",
       "术前ALT                    0.203116\n",
       "术前AST                    0.203116\n",
       "术前GT                     0.287940\n",
       "术前AFP                    0.289671\n",
       "术前碱性磷酸酶                  0.306982\n",
       "术前总蛋白                    0.393537\n",
       "术前白蛋白                    0.234853\n",
       "术前总胆红素                   0.221004\n",
       "术前直胆红素                   0.226197\n",
       "术前肌酐                     0.273514\n",
       "术前血糖                     0.267167\n",
       "术前胆碱酯酶                   0.333526\n",
       "术前血红蛋白                   0.232545\n",
       "术前红细胞                    0.244662\n",
       "术前血小板                    0.215234\n",
       "术前淋巴细胞                   0.241777\n",
       "术前白细胞                    0.220427\n",
       "术前中性粒细胞                  0.241777\n",
       "术前凝血酶原时间                 0.259088\n",
       "术前凝血酶原活动度                0.262550\n",
       "术前INR                    0.262550\n",
       "术前甘油三酯                   0.626082\n",
       "术前胆固醇                    0.628967\n",
       "术前高密度脂蛋白                 0.772649\n",
       "术前低密度脂蛋白                 0.771495\n",
       "消融时间（s）                  0.000000\n",
       "功率（W）                    0.000000\n",
       "酒精消融（有1无0）               0.000000\n",
       "并发症（有1无0）                0.000000\n",
       "严重并发症                    0.000000\n",
       "完全消融（是1否0）               0.000000\n",
       "是否复发（是1 否0）              0.000577\n",
       "随访时间(单位：月)               0.000000\n",
       "是否为早期复发                  0.000000\n",
       "dtype: float64"
      ]
     },
     "execution_count": 9,
     "metadata": {},
     "output_type": "execute_result"
    }
   ],
   "source": [
    "cancerData.isnull().sum()/len(cancerData)"
   ]
  },
  {
   "cell_type": "code",
   "execution_count": 10,
   "metadata": {},
   "outputs": [],
   "source": [
    "# delete columns with high missing rate\n",
    "cancerData.drop(columns = ['术前低密度脂蛋白','术前高密度脂蛋白','术前胆固醇','术前甘油三酯','肿瘤大小c（cm）'],inplace = True)"
   ]
  },
  {
   "cell_type": "markdown",
   "metadata": {},
   "source": [
    "## Find Columns with Missing Value"
   ]
  },
  {
   "cell_type": "code",
   "execution_count": 11,
   "metadata": {},
   "outputs": [],
   "source": [
    "nullIdx = cancerData.isnull().any()"
   ]
  },
  {
   "cell_type": "code",
   "execution_count": 12,
   "metadata": {},
   "outputs": [],
   "source": [
    "cancerData['肝硬化类型（0无乙肝1丙肝2酒精3其他4）'].fillna(5,inplace = True)"
   ]
  },
  {
   "cell_type": "code",
   "execution_count": 13,
   "metadata": {},
   "outputs": [],
   "source": [
    "cancerData['Child分级'].fillna(2,inplace=True)"
   ]
  },
  {
   "cell_type": "code",
   "execution_count": 14,
   "metadata": {},
   "outputs": [],
   "source": [
    "cancerData['是否复发（是1 否0）'].fillna(2,inplace = True)"
   ]
  },
  {
   "cell_type": "code",
   "execution_count": 15,
   "metadata": {},
   "outputs": [],
   "source": [
    "cancerData.fillna(cancerData.median(),inplace = True)"
   ]
  },
  {
   "cell_type": "code",
   "execution_count": 16,
   "metadata": {},
   "outputs": [],
   "source": [
    "temp = pd.concat([cancerData,pd.get_dummies(cancerData['肝硬化类型（0无乙肝1丙肝2酒精3其他4）'])],axis = 1)\n",
    "cancerData = temp"
   ]
  },
  {
   "cell_type": "code",
   "execution_count": 17,
   "metadata": {},
   "outputs": [],
   "source": [
    "cancerData.rename(columns = {0.0:'无肝硬化',1.0:'乙肝',2.0:'丙肝',3.0:'酒精肝',4.0:'其他',5.0:'缺失'},inplace = True)\n",
    "cancerData.drop(columns = '缺失',inplace = True)"
   ]
  },
  {
   "cell_type": "code",
   "execution_count": 18,
   "metadata": {},
   "outputs": [],
   "source": [
    "temp = pd.concat([cancerData,pd.get_dummies(cancerData['Child分级'])],axis = 1)\n",
    "cancerData = temp"
   ]
  },
  {
   "cell_type": "code",
   "execution_count": 19,
   "metadata": {},
   "outputs": [],
   "source": [
    "cancerData.rename(columns = {0.0:'A级',1.0:'B级',2.0:'缺失'},inplace = True)\n",
    "cancerData.drop(columns = '缺失',inplace = True)"
   ]
  },
  {
   "cell_type": "code",
   "execution_count": 20,
   "metadata": {},
   "outputs": [],
   "source": [
    "temp = pd.concat([cancerData,pd.get_dummies(cancerData['是否复发（是1 否0）'])],axis = 1)\n",
    "cancerData = temp"
   ]
  },
  {
   "cell_type": "code",
   "execution_count": 21,
   "metadata": {},
   "outputs": [],
   "source": [
    "cancerData.rename(columns = {0.0:'复发',1.0:'未复发',2.0:'缺失'},inplace = True)\n",
    "cancerData.drop(columns = '缺失',inplace = True)"
   ]
  },
  {
   "cell_type": "code",
   "execution_count": 22,
   "metadata": {},
   "outputs": [],
   "source": [
    "plt.rcParams['font.sans-serif'] = ['SimHei'] # 步骤一（替换sans-serif字体）\n",
    "plt.rcParams['axes.unicode_minus'] = False"
   ]
  },
  {
   "cell_type": "code",
   "execution_count": 23,
   "metadata": {},
   "outputs": [
    {
     "data": {
      "image/png": "[encoded data removed]",
      "text/plain": [
       "<Figure size 432x288 with 1 Axes>"
      ]
     },
     "metadata": {
      "needs_background": "light"
     },
     "output_type": "display_data"
    },
    {
     "data": {
      "image/png": "[encoded data removed]",
      "text/plain": [
       "<Figure size 432x288 with 1 Axes>"
      ]
     },
     "metadata": {
      "needs_background": "light"
     },
     "output_type": "display_data"
    },
    {
     "data": {
      "image/png": "[encoded data removed]",
      "text/plain": [
       "<Figure size 432x288 with 1 Axes>"
      ]
     },
     "metadata": {
      "needs_background": "light"
     },
     "output_type": "display_data"
    },
    {
     "data": {
      "image/png": "[encoded data removed]",
      "text/plain": [
       "<Figure size 432x288 with 1 Axes>"
      ]
     },
     "metadata": {
      "needs_background": "light"
     },
     "output_type": "display_data"
    },
    {
     "data": {
      "image/png": "[encoded data removed]",
      "text/plain": [
       "<Figure size 432x288 with 1 Axes>"
      ]
     },
     "metadata": {
      "needs_background": "light"
     },
     "output_type": "display_data"
    },
    {
     "data": {
      "image/png": "[encoded data removed]",
      "text/plain": [
       "<Figure size 432x288 with 1 Axes>"
      ]
     },
     "metadata": {
      "needs_background": "light"
     },
     "output_type": "display_data"
    },
    {
     "data": {
      "image/png": "[encoded data removed]",
      "text/plain": [
       "<Figure size 432x288 with 1 Axes>"
      ]
     },
     "metadata": {
      "needs_background": "light"
     },
     "output_type": "display_data"
    },
    {
     "data": {
      "image/png": "[encoded data removed]",
      "text/plain": [
       "<Figure size 432x288 with 1 Axes>"
      ]
     },
     "metadata": {
      "needs_background": "light"
     },
     "output_type": "display_data"
    },
    {
     "data": {
      "image/png": "[encoded data removed]",
      "text/plain": [
       "<Figure size 432x288 with 1 Axes>"
      ]
     },
     "metadata": {
      "needs_background": "light"
     },
     "output_type": "display_data"
    },
    {
     "data": {
      "image/png": "[encoded data removed]",
      "text/plain": [
       "<Figure size 432x288 with 1 Axes>"
      ]
     },
     "metadata": {
      "needs_background": "light"
     },
     "output_type": "display_data"
    },
    {
     "data": {
      "image/png": "[encoded data removed]",
      "text/plain": [
       "<Figure size 432x288 with 1 Axes>"
      ]
     },
     "metadata": {
      "needs_background": "light"
     },
     "output_type": "display_data"
    },
    {
     "data": {
      "image/png": "[encoded data removed]",
      "text/plain": [
       "<Figure size 432x288 with 1 Axes>"
      ]
     },
     "metadata": {
      "needs_background": "light"
     },
     "output_type": "display_data"
    },
    {
     "data": {
      "image/png": "[encoded data removed]",
      "text/plain": [
       "<Figure size 432x288 with 1 Axes>"
      ]
     },
     "metadata": {
      "needs_background": "light"
     },
     "output_type": "display_data"
    },
    {
     "data": {
      "image/png": "[encoded data removed]",
      "text/plain": [
       "<Figure size 432x288 with 1 Axes>"
      ]
     },
     "metadata": {
      "needs_background": "light"
     },
     "output_type": "display_data"
    },
    {
     "data": {
      "image/png": "[encoded data removed]",
      "text/plain": [
       "<Figure size 432x288 with 1 Axes>"
      ]
     },
     "metadata": {
      "needs_background": "light"
     },
     "output_type": "display_data"
    },
    {
     "data": {
      "image/png": "[encoded data removed]",
      "text/plain": [
       "<Figure size 432x288 with 1 Axes>"
      ]
     },
     "metadata": {
      "needs_background": "light"
     },
     "output_type": "display_data"
    },
    {
     "data": {
      "image/png": "[encoded data removed]",
      "text/plain": [
       "<Figure size 432x288 with 1 Axes>"
      ]
     },
     "metadata": {
      "needs_background": "light"
     },
     "output_type": "display_data"
    },
    {
     "data": {
      "image/png": "[encoded data removed]",
      "text/plain": [
       "<Figure size 432x288 with 1 Axes>"
      ]
     },
     "metadata": {
      "needs_background": "light"
     },
     "output_type": "display_data"
    },
    {
     "data": {
      "image/png": "[encoded data removed]",
      "text/plain": [
       "<Figure size 432x288 with 1 Axes>"
      ]
     },
     "metadata": {
      "needs_background": "light"
     },
     "output_type": "display_data"
    },
    {
     "data": {
      "image/png": "[encoded data removed]",
      "text/plain": [
       "<Figure size 432x288 with 1 Axes>"
      ]
     },
     "metadata": {
      "needs_background": "light"
     },
     "output_type": "display_data"
    },
    {
     "data": {
      "image/png": "[encoded data removed]",
      "text/plain": [
       "<Figure size 432x288 with 1 Axes>"
      ]
     },
     "metadata": {
      "needs_background": "light"
     },
     "output_type": "display_data"
    },
    {
     "data": {
      "image/png": "[encoded data removed]",
      "text/plain": [
       "<Figure size 432x288 with 1 Axes>"
      ]
     },
     "metadata": {
      "needs_background": "light"
     },
     "output_type": "display_data"
    },
    {
     "data": {
      "image/png": "[encoded data removed]",
      "text/plain": [
       "<Figure size 432x288 with 1 Axes>"
      ]
     },
     "metadata": {
      "needs_background": "light"
     },
     "output_type": "display_data"
    },
    {
     "data": {
      "image/png": "[encoded data removed]",
      "text/plain": [
       "<Figure size 432x288 with 1 Axes>"
      ]
     },
     "metadata": {
      "needs_background": "light"
     },
     "output_type": "display_data"
    },
    {
     "data": {
      "image/png": "[encoded data removed]",
      "text/plain": [
       "<Figure size 432x288 with 1 Axes>"
      ]
     },
     "metadata": {
      "needs_background": "light"
     },
     "output_type": "display_data"
    },
    {
     "data": {
      "image/png": "[encoded data removed]",
      "text/plain": [
       "<Figure size 432x288 with 1 Axes>"
      ]
     },
     "metadata": {
      "needs_background": "light"
     },
     "output_type": "display_data"
    },
    {
     "data": {
      "image/png": "[encoded data removed]",
      "text/plain": [
       "<Figure size 432x288 with 1 Axes>"
      ]
     },
     "metadata": {
      "needs_background": "light"
     },
     "output_type": "display_data"
    },
    {
     "data": {
      "image/png": "[encoded data removed]",
      "text/plain": [
       "<Figure size 432x288 with 1 Axes>"
      ]
     },
     "metadata": {
      "needs_background": "light"
     },
     "output_type": "display_data"
    },
    {
     "data": {
      "image/png": "[encoded data removed]",
      "text/plain": [
       "<Figure size 432x288 with 1 Axes>"
      ]
     },
     "metadata": {
      "needs_background": "light"
     },
     "output_type": "display_data"
    },
    {
     "data": {
      "image/png": "[encoded data removed]",
      "text/plain": [
       "<Figure size 432x288 with 1 Axes>"
      ]
     },
     "metadata": {
      "needs_background": "light"
     },
     "output_type": "display_data"
    },
    {
     "data": {
      "image/png": "[encoded data removed]",
      "text/plain": [
       "<Figure size 432x288 with 1 Axes>"
      ]
     },
     "metadata": {
      "needs_background": "light"
     },
     "output_type": "display_data"
    },
    {
     "data": {
      "image/png": "[encoded data removed]",
      "text/plain": [
       "<Figure size 432x288 with 1 Axes>"
      ]
     },
     "metadata": {
      "needs_background": "light"
     },
     "output_type": "display_data"
    },
    {
     "data": {
      "image/png": "[encoded data removed]",
      "text/plain": [
       "<Figure size 432x288 with 1 Axes>"
      ]
     },
     "metadata": {
      "needs_background": "light"
     },
     "output_type": "display_data"
    },
    {
     "data": {
      "image/png": "[encoded data removed]",
      "text/plain": [
       "<Figure size 432x288 with 1 Axes>"
      ]
     },
     "metadata": {
      "needs_background": "light"
     },
     "output_type": "display_data"
    },
    {
     "data": {
      "image/png": "[encoded data removed]",
      "text/plain": [
       "<Figure size 432x288 with 1 Axes>"
      ]
     },
     "metadata": {
      "needs_background": "light"
     },
     "output_type": "display_data"
    },
    {
     "data": {
      "image/png": "[encoded data removed]",
      "text/plain": [
       "<Figure size 432x288 with 1 Axes>"
      ]
     },
     "metadata": {
      "needs_background": "light"
     },
     "output_type": "display_data"
    },
    {
     "data": {
      "image/png": "[encoded data removed]",
      "text/plain": [
       "<Figure size 432x288 with 1 Axes>"
      ]
     },
     "metadata": {
      "needs_background": "light"
     },
     "output_type": "display_data"
    },
    {
     "data": {
      "image/png": "[encoded data removed]",
      "text/plain": [
       "<Figure size 432x288 with 1 Axes>"
      ]
     },
     "metadata": {
      "needs_background": "light"
     },
     "output_type": "display_data"
    },
    {
     "data": {
      "image/png": "[encoded data removed]",
      "text/plain": [
       "<Figure size 432x288 with 1 Axes>"
      ]
     },
     "metadata": {
      "needs_background": "light"
     },
     "output_type": "display_data"
    },
    {
     "data": {
      "image/png": "[encoded data removed]",
      "text/plain": [
       "<Figure size 432x288 with 1 Axes>"
      ]
     },
     "metadata": {
      "needs_background": "light"
     },
     "output_type": "display_data"
    },
    {
     "data": {
      "image/png": "[encoded data removed]",
      "text/plain": [
       "<Figure size 432x288 with 1 Axes>"
      ]
     },
     "metadata": {
      "needs_background": "light"
     },
     "output_type": "display_data"
    },
    {
     "data": {
      "image/png": "[encoded data removed]",
      "text/plain": [
       "<Figure size 432x288 with 1 Axes>"
      ]
     },
     "metadata": {
      "needs_background": "light"
     },
     "output_type": "display_data"
    },
    {
     "data": {
      "image/png": "[encoded data removed]",
      "text/plain": [
       "<Figure size 432x288 with 1 Axes>"
      ]
     },
     "metadata": {
      "needs_background": "light"
     },
     "output_type": "display_data"
    },
    {
     "data": {
      "image/png": "[encoded data removed]",
      "text/plain": [
       "<Figure size 432x288 with 1 Axes>"
      ]
     },
     "metadata": {
      "needs_background": "light"
     },
     "output_type": "display_data"
    },
    {
     "data": {
      "image/png": "[encoded data removed]",
      "text/plain": [
       "<Figure size 432x288 with 1 Axes>"
      ]
     },
     "metadata": {
      "needs_background": "light"
     },
     "output_type": "display_data"
    },
    {
     "data": {
      "image/png": "[encoded data removed]",
      "text/plain": [
       "<Figure size 432x288 with 1 Axes>"
      ]
     },
     "metadata": {
      "needs_background": "light"
     },
     "output_type": "display_data"
    },
    {
     "data": {
      "image/png": "[encoded data removed]",
      "text/plain": [
       "<Figure size 432x288 with 1 Axes>"
      ]
     },
     "metadata": {
      "needs_background": "light"
     },
     "output_type": "display_data"
    },
    {
     "data": {
      "image/png": "[encoded data removed]",
      "text/plain": [
       "<Figure size 432x288 with 1 Axes>"
      ]
     },
     "metadata": {
      "needs_background": "light"
     },
     "output_type": "display_data"
    },
    {
     "data": {
      "image/png": "[encoded data removed]",
      "text/plain": [
       "<Figure size 432x288 with 1 Axes>"
      ]
     },
     "metadata": {
      "needs_background": "light"
     },
     "output_type": "display_data"
    },
    {
     "data": {
      "image/png": "[encoded data removed]",
      "text/plain": [
       "<Figure size 432x288 with 1 Axes>"
      ]
     },
     "metadata": {
      "needs_background": "light"
     },
     "output_type": "display_data"
    },
    {
     "data": {
      "image/png": "[encoded data removed]",
      "text/plain": [
       "<Figure size 432x288 with 1 Axes>"
      ]
     },
     "metadata": {
      "needs_background": "light"
     },
     "output_type": "display_data"
    }
   ],
   "source": [
    "# dataShape = cancerData.shape\n",
    "# for i in range(dataShape[1]):\n",
    "#     cancerData.iloc[:,i].plot.box()\n",
    "#     plt.savefig('box-plot'+str(i)+'.pdf')\n",
    "#     plt.show()"
   ]
  },
  {
   "cell_type": "markdown",
   "metadata": {},
   "source": [
    "## Checking Existence of Inconsistency"
   ]
  },
  {
   "cell_type": "code",
   "execution_count": 24,
   "metadata": {},
   "outputs": [
    {
     "data": {
      "text/html": [
       "<div>\n",
       "<style scoped>\n",
       "    .dataframe tbody tr th:only-of-type {\n",
       "        vertical-align: middle;\n",
       "    }\n",
       "\n",
       "    .dataframe tbody tr th {\n",
       "        vertical-align: top;\n",
       "    }\n",
       "\n",
       "    .dataframe thead th {\n",
       "        text-align: right;\n",
       "    }\n",
       "</style>\n",
       "<table border=\"1\" class=\"dataframe\">\n",
       "  <thead>\n",
       "    <tr style=\"text-align: right;\">\n",
       "      <th></th>\n",
       "      <th>ID</th>\n",
       "      <th>性别（1男0女）</th>\n",
       "      <th>年龄</th>\n",
       "      <th>肿瘤大小a（cm）</th>\n",
       "      <th>肿瘤大小b（cm）</th>\n",
       "      <th>肿瘤数量</th>\n",
       "      <th>肝硬化类型（0无乙肝1丙肝2酒精3其他4）</th>\n",
       "      <th>肝外转移（无0有1）</th>\n",
       "      <th>Child分级</th>\n",
       "      <th>病理（高分化0中1低2无3）</th>\n",
       "      <th>...</th>\n",
       "      <th>是否为早期复发</th>\n",
       "      <th>无肝硬化</th>\n",
       "      <th>乙肝</th>\n",
       "      <th>丙肝</th>\n",
       "      <th>酒精肝</th>\n",
       "      <th>其他</th>\n",
       "      <th>A级</th>\n",
       "      <th>B级</th>\n",
       "      <th>复发</th>\n",
       "      <th>未复发</th>\n",
       "    </tr>\n",
       "  </thead>\n",
       "  <tbody>\n",
       "    <tr>\n",
       "      <td>0</td>\n",
       "      <td>1.0</td>\n",
       "      <td>1</td>\n",
       "      <td>39.0</td>\n",
       "      <td>2.5</td>\n",
       "      <td>2.2</td>\n",
       "      <td>3.0</td>\n",
       "      <td>1.0</td>\n",
       "      <td>0.0</td>\n",
       "      <td>0.0</td>\n",
       "      <td>3.0</td>\n",
       "      <td>...</td>\n",
       "      <td>0.0</td>\n",
       "      <td>0</td>\n",
       "      <td>1</td>\n",
       "      <td>0</td>\n",
       "      <td>0</td>\n",
       "      <td>0</td>\n",
       "      <td>1</td>\n",
       "      <td>0</td>\n",
       "      <td>0</td>\n",
       "      <td>1</td>\n",
       "    </tr>\n",
       "    <tr>\n",
       "      <td>1</td>\n",
       "      <td>2.0</td>\n",
       "      <td>1</td>\n",
       "      <td>58.0</td>\n",
       "      <td>4.0</td>\n",
       "      <td>2.3</td>\n",
       "      <td>2.0</td>\n",
       "      <td>1.0</td>\n",
       "      <td>0.0</td>\n",
       "      <td>0.0</td>\n",
       "      <td>3.0</td>\n",
       "      <td>...</td>\n",
       "      <td>1.0</td>\n",
       "      <td>0</td>\n",
       "      <td>1</td>\n",
       "      <td>0</td>\n",
       "      <td>0</td>\n",
       "      <td>0</td>\n",
       "      <td>1</td>\n",
       "      <td>0</td>\n",
       "      <td>0</td>\n",
       "      <td>1</td>\n",
       "    </tr>\n",
       "    <tr>\n",
       "      <td>2</td>\n",
       "      <td>3.0</td>\n",
       "      <td>1</td>\n",
       "      <td>47.0</td>\n",
       "      <td>2.5</td>\n",
       "      <td>2.1</td>\n",
       "      <td>4.0</td>\n",
       "      <td>0.0</td>\n",
       "      <td>1.0</td>\n",
       "      <td>0.0</td>\n",
       "      <td>3.0</td>\n",
       "      <td>...</td>\n",
       "      <td>1.0</td>\n",
       "      <td>1</td>\n",
       "      <td>0</td>\n",
       "      <td>0</td>\n",
       "      <td>0</td>\n",
       "      <td>0</td>\n",
       "      <td>1</td>\n",
       "      <td>0</td>\n",
       "      <td>0</td>\n",
       "      <td>1</td>\n",
       "    </tr>\n",
       "    <tr>\n",
       "      <td>3</td>\n",
       "      <td>4.0</td>\n",
       "      <td>1</td>\n",
       "      <td>53.0</td>\n",
       "      <td>3.4</td>\n",
       "      <td>3.2</td>\n",
       "      <td>28.0</td>\n",
       "      <td>0.0</td>\n",
       "      <td>0.0</td>\n",
       "      <td>0.0</td>\n",
       "      <td>3.0</td>\n",
       "      <td>...</td>\n",
       "      <td>1.0</td>\n",
       "      <td>1</td>\n",
       "      <td>0</td>\n",
       "      <td>0</td>\n",
       "      <td>0</td>\n",
       "      <td>0</td>\n",
       "      <td>1</td>\n",
       "      <td>0</td>\n",
       "      <td>0</td>\n",
       "      <td>1</td>\n",
       "    </tr>\n",
       "    <tr>\n",
       "      <td>4</td>\n",
       "      <td>5.0</td>\n",
       "      <td>0</td>\n",
       "      <td>46.0</td>\n",
       "      <td>3.6</td>\n",
       "      <td>2.9</td>\n",
       "      <td>1.0</td>\n",
       "      <td>1.0</td>\n",
       "      <td>0.0</td>\n",
       "      <td>1.0</td>\n",
       "      <td>3.0</td>\n",
       "      <td>...</td>\n",
       "      <td>0.0</td>\n",
       "      <td>0</td>\n",
       "      <td>1</td>\n",
       "      <td>0</td>\n",
       "      <td>0</td>\n",
       "      <td>0</td>\n",
       "      <td>0</td>\n",
       "      <td>1</td>\n",
       "      <td>1</td>\n",
       "      <td>0</td>\n",
       "    </tr>\n",
       "    <tr>\n",
       "      <td>5</td>\n",
       "      <td>6.0</td>\n",
       "      <td>1</td>\n",
       "      <td>53.0</td>\n",
       "      <td>2.4</td>\n",
       "      <td>2.1</td>\n",
       "      <td>1.0</td>\n",
       "      <td>1.0</td>\n",
       "      <td>0.0</td>\n",
       "      <td>1.0</td>\n",
       "      <td>0.0</td>\n",
       "      <td>...</td>\n",
       "      <td>0.0</td>\n",
       "      <td>0</td>\n",
       "      <td>1</td>\n",
       "      <td>0</td>\n",
       "      <td>0</td>\n",
       "      <td>0</td>\n",
       "      <td>0</td>\n",
       "      <td>1</td>\n",
       "      <td>0</td>\n",
       "      <td>1</td>\n",
       "    </tr>\n",
       "    <tr>\n",
       "      <td>6</td>\n",
       "      <td>7.0</td>\n",
       "      <td>1</td>\n",
       "      <td>65.0</td>\n",
       "      <td>6.2</td>\n",
       "      <td>3.9</td>\n",
       "      <td>1.0</td>\n",
       "      <td>1.0</td>\n",
       "      <td>0.0</td>\n",
       "      <td>1.0</td>\n",
       "      <td>3.0</td>\n",
       "      <td>...</td>\n",
       "      <td>1.0</td>\n",
       "      <td>0</td>\n",
       "      <td>1</td>\n",
       "      <td>0</td>\n",
       "      <td>0</td>\n",
       "      <td>0</td>\n",
       "      <td>0</td>\n",
       "      <td>1</td>\n",
       "      <td>0</td>\n",
       "      <td>1</td>\n",
       "    </tr>\n",
       "    <tr>\n",
       "      <td>7</td>\n",
       "      <td>8.0</td>\n",
       "      <td>1</td>\n",
       "      <td>58.0</td>\n",
       "      <td>3.5</td>\n",
       "      <td>3.0</td>\n",
       "      <td>1.0</td>\n",
       "      <td>1.0</td>\n",
       "      <td>0.0</td>\n",
       "      <td>0.0</td>\n",
       "      <td>1.0</td>\n",
       "      <td>...</td>\n",
       "      <td>1.0</td>\n",
       "      <td>0</td>\n",
       "      <td>1</td>\n",
       "      <td>0</td>\n",
       "      <td>0</td>\n",
       "      <td>0</td>\n",
       "      <td>1</td>\n",
       "      <td>0</td>\n",
       "      <td>0</td>\n",
       "      <td>1</td>\n",
       "    </tr>\n",
       "    <tr>\n",
       "      <td>8</td>\n",
       "      <td>9.0</td>\n",
       "      <td>1</td>\n",
       "      <td>39.0</td>\n",
       "      <td>1.9</td>\n",
       "      <td>1.8</td>\n",
       "      <td>3.0</td>\n",
       "      <td>0.0</td>\n",
       "      <td>0.0</td>\n",
       "      <td>0.0</td>\n",
       "      <td>3.0</td>\n",
       "      <td>...</td>\n",
       "      <td>1.0</td>\n",
       "      <td>1</td>\n",
       "      <td>0</td>\n",
       "      <td>0</td>\n",
       "      <td>0</td>\n",
       "      <td>0</td>\n",
       "      <td>1</td>\n",
       "      <td>0</td>\n",
       "      <td>0</td>\n",
       "      <td>1</td>\n",
       "    </tr>\n",
       "    <tr>\n",
       "      <td>9</td>\n",
       "      <td>10.0</td>\n",
       "      <td>1</td>\n",
       "      <td>39.0</td>\n",
       "      <td>1.9</td>\n",
       "      <td>1.9</td>\n",
       "      <td>2.0</td>\n",
       "      <td>1.0</td>\n",
       "      <td>0.0</td>\n",
       "      <td>0.0</td>\n",
       "      <td>3.0</td>\n",
       "      <td>...</td>\n",
       "      <td>0.0</td>\n",
       "      <td>0</td>\n",
       "      <td>1</td>\n",
       "      <td>0</td>\n",
       "      <td>0</td>\n",
       "      <td>0</td>\n",
       "      <td>1</td>\n",
       "      <td>0</td>\n",
       "      <td>0</td>\n",
       "      <td>1</td>\n",
       "    </tr>\n",
       "  </tbody>\n",
       "</table>\n",
       "<p>10 rows × 51 columns</p>\n",
       "</div>"
      ],
      "text/plain": [
       "     ID  性别（1男0女）    年龄  肿瘤大小a（cm）  肿瘤大小b（cm）  肿瘤数量  肝硬化类型（0无乙肝1丙肝2酒精3其他4）  \\\n",
       "0   1.0         1  39.0        2.5        2.2   3.0                    1.0   \n",
       "1   2.0         1  58.0        4.0        2.3   2.0                    1.0   \n",
       "2   3.0         1  47.0        2.5        2.1   4.0                    0.0   \n",
       "3   4.0         1  53.0        3.4        3.2  28.0                    0.0   \n",
       "4   5.0         0  46.0        3.6        2.9   1.0                    1.0   \n",
       "5   6.0         1  53.0        2.4        2.1   1.0                    1.0   \n",
       "6   7.0         1  65.0        6.2        3.9   1.0                    1.0   \n",
       "7   8.0         1  58.0        3.5        3.0   1.0                    1.0   \n",
       "8   9.0         1  39.0        1.9        1.8   3.0                    0.0   \n",
       "9  10.0         1  39.0        1.9        1.9   2.0                    1.0   \n",
       "\n",
       "   肝外转移（无0有1）  Child分级  病理（高分化0中1低2无3）  ...  是否为早期复发  无肝硬化  乙肝  丙肝  酒精肝  其他  \\\n",
       "0         0.0      0.0             3.0  ...      0.0     0   1   0    0   0   \n",
       "1         0.0      0.0             3.0  ...      1.0     0   1   0    0   0   \n",
       "2         1.0      0.0             3.0  ...      1.0     1   0   0    0   0   \n",
       "3         0.0      0.0             3.0  ...      1.0     1   0   0    0   0   \n",
       "4         0.0      1.0             3.0  ...      0.0     0   1   0    0   0   \n",
       "5         0.0      1.0             0.0  ...      0.0     0   1   0    0   0   \n",
       "6         0.0      1.0             3.0  ...      1.0     0   1   0    0   0   \n",
       "7         0.0      0.0             1.0  ...      1.0     0   1   0    0   0   \n",
       "8         0.0      0.0             3.0  ...      1.0     1   0   0    0   0   \n",
       "9         0.0      0.0             3.0  ...      0.0     0   1   0    0   0   \n",
       "\n",
       "   A级  B级  复发  未复发  \n",
       "0   1   0   0    1  \n",
       "1   1   0   0    1  \n",
       "2   1   0   0    1  \n",
       "3   1   0   0    1  \n",
       "4   0   1   1    0  \n",
       "5   0   1   0    1  \n",
       "6   0   1   0    1  \n",
       "7   1   0   0    1  \n",
       "8   1   0   0    1  \n",
       "9   1   0   0    1  \n",
       "\n",
       "[10 rows x 51 columns]"
      ]
     },
     "execution_count": 24,
     "metadata": {},
     "output_type": "execute_result"
    }
   ],
   "source": [
    "cancerData.head(10)"
   ]
  },
  {
   "cell_type": "code",
   "execution_count": 25,
   "metadata": {},
   "outputs": [
    {
     "data": {
      "text/plain": [
       "True"
      ]
     },
     "execution_count": 25,
     "metadata": {},
     "output_type": "execute_result"
    }
   ],
   "source": [
    "temp = cancerData['是否复发（是1 否0）'] - cancerData['是否为早期复发']\n",
    "idx = temp>=0\n",
    "sum(idx) == len(temp)"
   ]
  },
  {
   "cell_type": "markdown",
   "metadata": {},
   "source": [
    "## Data Normalization"
   ]
  },
  {
   "cell_type": "code",
   "execution_count": 26,
   "metadata": {},
   "outputs": [
    {
     "data": {
      "text/html": [
       "<div>\n",
       "<style scoped>\n",
       "    .dataframe tbody tr th:only-of-type {\n",
       "        vertical-align: middle;\n",
       "    }\n",
       "\n",
       "    .dataframe tbody tr th {\n",
       "        vertical-align: top;\n",
       "    }\n",
       "\n",
       "    .dataframe thead th {\n",
       "        text-align: right;\n",
       "    }\n",
       "</style>\n",
       "<table border=\"1\" class=\"dataframe\">\n",
       "  <thead>\n",
       "    <tr style=\"text-align: right;\">\n",
       "      <th></th>\n",
       "      <th>性别（1男0女）</th>\n",
       "      <th>年龄</th>\n",
       "      <th>肿瘤大小a（cm）</th>\n",
       "      <th>肿瘤大小b（cm）</th>\n",
       "      <th>肿瘤数量</th>\n",
       "      <th>肝外转移（无0有1）</th>\n",
       "      <th>病理（高分化0中1低2无3）</th>\n",
       "      <th>腹水（无0有1）</th>\n",
       "      <th>血管癌栓（无0有1）</th>\n",
       "      <th>术前ALT</th>\n",
       "      <th>...</th>\n",
       "      <th>是否为早期复发</th>\n",
       "      <th>无肝硬化</th>\n",
       "      <th>乙肝</th>\n",
       "      <th>丙肝</th>\n",
       "      <th>酒精肝</th>\n",
       "      <th>其他</th>\n",
       "      <th>A级</th>\n",
       "      <th>B级</th>\n",
       "      <th>复发</th>\n",
       "      <th>未复发</th>\n",
       "    </tr>\n",
       "  </thead>\n",
       "  <tbody>\n",
       "    <tr>\n",
       "      <td>0</td>\n",
       "      <td>1</td>\n",
       "      <td>39.0</td>\n",
       "      <td>2.5</td>\n",
       "      <td>2.2</td>\n",
       "      <td>3.0</td>\n",
       "      <td>0.0</td>\n",
       "      <td>3.0</td>\n",
       "      <td>0.0</td>\n",
       "      <td>0.0</td>\n",
       "      <td>39.2</td>\n",
       "      <td>...</td>\n",
       "      <td>0.0</td>\n",
       "      <td>0</td>\n",
       "      <td>1</td>\n",
       "      <td>0</td>\n",
       "      <td>0</td>\n",
       "      <td>0</td>\n",
       "      <td>1</td>\n",
       "      <td>0</td>\n",
       "      <td>0</td>\n",
       "      <td>1</td>\n",
       "    </tr>\n",
       "    <tr>\n",
       "      <td>1</td>\n",
       "      <td>1</td>\n",
       "      <td>58.0</td>\n",
       "      <td>4.0</td>\n",
       "      <td>2.3</td>\n",
       "      <td>2.0</td>\n",
       "      <td>0.0</td>\n",
       "      <td>3.0</td>\n",
       "      <td>0.0</td>\n",
       "      <td>0.0</td>\n",
       "      <td>16.4</td>\n",
       "      <td>...</td>\n",
       "      <td>1.0</td>\n",
       "      <td>0</td>\n",
       "      <td>1</td>\n",
       "      <td>0</td>\n",
       "      <td>0</td>\n",
       "      <td>0</td>\n",
       "      <td>1</td>\n",
       "      <td>0</td>\n",
       "      <td>0</td>\n",
       "      <td>1</td>\n",
       "    </tr>\n",
       "    <tr>\n",
       "      <td>2</td>\n",
       "      <td>1</td>\n",
       "      <td>47.0</td>\n",
       "      <td>2.5</td>\n",
       "      <td>2.1</td>\n",
       "      <td>4.0</td>\n",
       "      <td>1.0</td>\n",
       "      <td>3.0</td>\n",
       "      <td>0.0</td>\n",
       "      <td>0.0</td>\n",
       "      <td>39.2</td>\n",
       "      <td>...</td>\n",
       "      <td>1.0</td>\n",
       "      <td>1</td>\n",
       "      <td>0</td>\n",
       "      <td>0</td>\n",
       "      <td>0</td>\n",
       "      <td>0</td>\n",
       "      <td>1</td>\n",
       "      <td>0</td>\n",
       "      <td>0</td>\n",
       "      <td>1</td>\n",
       "    </tr>\n",
       "    <tr>\n",
       "      <td>3</td>\n",
       "      <td>1</td>\n",
       "      <td>53.0</td>\n",
       "      <td>3.4</td>\n",
       "      <td>3.2</td>\n",
       "      <td>28.0</td>\n",
       "      <td>0.0</td>\n",
       "      <td>3.0</td>\n",
       "      <td>0.0</td>\n",
       "      <td>0.0</td>\n",
       "      <td>26.8</td>\n",
       "      <td>...</td>\n",
       "      <td>1.0</td>\n",
       "      <td>1</td>\n",
       "      <td>0</td>\n",
       "      <td>0</td>\n",
       "      <td>0</td>\n",
       "      <td>0</td>\n",
       "      <td>1</td>\n",
       "      <td>0</td>\n",
       "      <td>0</td>\n",
       "      <td>1</td>\n",
       "    </tr>\n",
       "    <tr>\n",
       "      <td>4</td>\n",
       "      <td>0</td>\n",
       "      <td>46.0</td>\n",
       "      <td>3.6</td>\n",
       "      <td>2.9</td>\n",
       "      <td>1.0</td>\n",
       "      <td>0.0</td>\n",
       "      <td>3.0</td>\n",
       "      <td>0.0</td>\n",
       "      <td>1.0</td>\n",
       "      <td>26.8</td>\n",
       "      <td>...</td>\n",
       "      <td>0.0</td>\n",
       "      <td>0</td>\n",
       "      <td>1</td>\n",
       "      <td>0</td>\n",
       "      <td>0</td>\n",
       "      <td>0</td>\n",
       "      <td>0</td>\n",
       "      <td>1</td>\n",
       "      <td>1</td>\n",
       "      <td>0</td>\n",
       "    </tr>\n",
       "    <tr>\n",
       "      <td>...</td>\n",
       "      <td>...</td>\n",
       "      <td>...</td>\n",
       "      <td>...</td>\n",
       "      <td>...</td>\n",
       "      <td>...</td>\n",
       "      <td>...</td>\n",
       "      <td>...</td>\n",
       "      <td>...</td>\n",
       "      <td>...</td>\n",
       "      <td>...</td>\n",
       "      <td>...</td>\n",
       "      <td>...</td>\n",
       "      <td>...</td>\n",
       "      <td>...</td>\n",
       "      <td>...</td>\n",
       "      <td>...</td>\n",
       "      <td>...</td>\n",
       "      <td>...</td>\n",
       "      <td>...</td>\n",
       "      <td>...</td>\n",
       "      <td>...</td>\n",
       "    </tr>\n",
       "    <tr>\n",
       "      <td>1728</td>\n",
       "      <td>1</td>\n",
       "      <td>72.0</td>\n",
       "      <td>4.7</td>\n",
       "      <td>4.1</td>\n",
       "      <td>3.0</td>\n",
       "      <td>0.0</td>\n",
       "      <td>1.0</td>\n",
       "      <td>0.0</td>\n",
       "      <td>0.0</td>\n",
       "      <td>35.9</td>\n",
       "      <td>...</td>\n",
       "      <td>1.0</td>\n",
       "      <td>0</td>\n",
       "      <td>0</td>\n",
       "      <td>1</td>\n",
       "      <td>0</td>\n",
       "      <td>0</td>\n",
       "      <td>1</td>\n",
       "      <td>0</td>\n",
       "      <td>0</td>\n",
       "      <td>1</td>\n",
       "    </tr>\n",
       "    <tr>\n",
       "      <td>1729</td>\n",
       "      <td>1</td>\n",
       "      <td>37.0</td>\n",
       "      <td>1.7</td>\n",
       "      <td>1.5</td>\n",
       "      <td>1.0</td>\n",
       "      <td>0.0</td>\n",
       "      <td>3.0</td>\n",
       "      <td>0.0</td>\n",
       "      <td>0.0</td>\n",
       "      <td>26.8</td>\n",
       "      <td>...</td>\n",
       "      <td>1.0</td>\n",
       "      <td>1</td>\n",
       "      <td>0</td>\n",
       "      <td>0</td>\n",
       "      <td>0</td>\n",
       "      <td>0</td>\n",
       "      <td>1</td>\n",
       "      <td>0</td>\n",
       "      <td>0</td>\n",
       "      <td>1</td>\n",
       "    </tr>\n",
       "    <tr>\n",
       "      <td>1730</td>\n",
       "      <td>1</td>\n",
       "      <td>50.0</td>\n",
       "      <td>4.9</td>\n",
       "      <td>4.5</td>\n",
       "      <td>1.0</td>\n",
       "      <td>0.0</td>\n",
       "      <td>3.0</td>\n",
       "      <td>0.0</td>\n",
       "      <td>0.0</td>\n",
       "      <td>26.1</td>\n",
       "      <td>...</td>\n",
       "      <td>0.0</td>\n",
       "      <td>0</td>\n",
       "      <td>1</td>\n",
       "      <td>0</td>\n",
       "      <td>0</td>\n",
       "      <td>0</td>\n",
       "      <td>1</td>\n",
       "      <td>0</td>\n",
       "      <td>1</td>\n",
       "      <td>0</td>\n",
       "    </tr>\n",
       "    <tr>\n",
       "      <td>1731</td>\n",
       "      <td>0</td>\n",
       "      <td>69.0</td>\n",
       "      <td>1.8</td>\n",
       "      <td>1.5</td>\n",
       "      <td>2.0</td>\n",
       "      <td>0.0</td>\n",
       "      <td>3.0</td>\n",
       "      <td>0.0</td>\n",
       "      <td>0.0</td>\n",
       "      <td>11.9</td>\n",
       "      <td>...</td>\n",
       "      <td>0.0</td>\n",
       "      <td>0</td>\n",
       "      <td>1</td>\n",
       "      <td>0</td>\n",
       "      <td>0</td>\n",
       "      <td>0</td>\n",
       "      <td>1</td>\n",
       "      <td>0</td>\n",
       "      <td>1</td>\n",
       "      <td>0</td>\n",
       "    </tr>\n",
       "    <tr>\n",
       "      <td>1732</td>\n",
       "      <td>1</td>\n",
       "      <td>50.0</td>\n",
       "      <td>2.3</td>\n",
       "      <td>2.0</td>\n",
       "      <td>1.0</td>\n",
       "      <td>0.0</td>\n",
       "      <td>3.0</td>\n",
       "      <td>0.0</td>\n",
       "      <td>0.0</td>\n",
       "      <td>21.2</td>\n",
       "      <td>...</td>\n",
       "      <td>0.0</td>\n",
       "      <td>0</td>\n",
       "      <td>1</td>\n",
       "      <td>0</td>\n",
       "      <td>0</td>\n",
       "      <td>0</td>\n",
       "      <td>1</td>\n",
       "      <td>0</td>\n",
       "      <td>1</td>\n",
       "      <td>0</td>\n",
       "    </tr>\n",
       "  </tbody>\n",
       "</table>\n",
       "<p>1733 rows × 47 columns</p>\n",
       "</div>"
      ],
      "text/plain": [
       "      性别（1男0女）    年龄  肿瘤大小a（cm）  肿瘤大小b（cm）  肿瘤数量  肝外转移（无0有1）  病理（高分化0中1低2无3）  \\\n",
       "0            1  39.0        2.5        2.2   3.0         0.0             3.0   \n",
       "1            1  58.0        4.0        2.3   2.0         0.0             3.0   \n",
       "2            1  47.0        2.5        2.1   4.0         1.0             3.0   \n",
       "3            1  53.0        3.4        3.2  28.0         0.0             3.0   \n",
       "4            0  46.0        3.6        2.9   1.0         0.0             3.0   \n",
       "...        ...   ...        ...        ...   ...         ...             ...   \n",
       "1728         1  72.0        4.7        4.1   3.0         0.0             1.0   \n",
       "1729         1  37.0        1.7        1.5   1.0         0.0             3.0   \n",
       "1730         1  50.0        4.9        4.5   1.0         0.0             3.0   \n",
       "1731         0  69.0        1.8        1.5   2.0         0.0             3.0   \n",
       "1732         1  50.0        2.3        2.0   1.0         0.0             3.0   \n",
       "\n",
       "      腹水（无0有1）  血管癌栓（无0有1）  术前ALT  ...  是否为早期复发  无肝硬化  乙肝  丙肝  酒精肝  其他  A级  \\\n",
       "0          0.0         0.0   39.2  ...      0.0     0   1   0    0   0   1   \n",
       "1          0.0         0.0   16.4  ...      1.0     0   1   0    0   0   1   \n",
       "2          0.0         0.0   39.2  ...      1.0     1   0   0    0   0   1   \n",
       "3          0.0         0.0   26.8  ...      1.0     1   0   0    0   0   1   \n",
       "4          0.0         1.0   26.8  ...      0.0     0   1   0    0   0   0   \n",
       "...        ...         ...    ...  ...      ...   ...  ..  ..  ...  ..  ..   \n",
       "1728       0.0         0.0   35.9  ...      1.0     0   0   1    0   0   1   \n",
       "1729       0.0         0.0   26.8  ...      1.0     1   0   0    0   0   1   \n",
       "1730       0.0         0.0   26.1  ...      0.0     0   1   0    0   0   1   \n",
       "1731       0.0         0.0   11.9  ...      0.0     0   1   0    0   0   1   \n",
       "1732       0.0         0.0   21.2  ...      0.0     0   1   0    0   0   1   \n",
       "\n",
       "      B级  复发  未复发  \n",
       "0      0   0    1  \n",
       "1      0   0    1  \n",
       "2      0   0    1  \n",
       "3      0   0    1  \n",
       "4      1   1    0  \n",
       "...   ..  ..  ...  \n",
       "1728   0   0    1  \n",
       "1729   0   0    1  \n",
       "1730   0   1    0  \n",
       "1731   0   1    0  \n",
       "1732   0   1    0  \n",
       "\n",
       "[1733 rows x 47 columns]"
      ]
     },
     "execution_count": 26,
     "metadata": {},
     "output_type": "execute_result"
    }
   ],
   "source": [
    "cancerData.drop(columns = ['ID','Child分级','是否复发（是1 否0）','肝硬化类型（0无乙肝1丙肝2酒精3其他4）'],inplace = True)\n",
    "cancerData"
   ]
  },
  {
   "cell_type": "code",
   "execution_count": 27,
   "metadata": {},
   "outputs": [],
   "source": [
    "cancerDataNorm = (cancerData-cancerData.mean())/cancerData.std()\n",
    "cancerDataNorm['无肝硬化'] = cancerData['无肝硬化']\n",
    "cancerDataNorm['乙肝'] = cancerData['乙肝']\n",
    "cancerDataNorm['丙肝'] = cancerData['丙肝']\n",
    "cancerDataNorm['酒精肝'] = cancerData['酒精肝']\n",
    "cancerDataNorm['其他'] = cancerData['其他']\n",
    "cancerDataNorm['复发'] = cancerData['复发']\n",
    "cancerDataNorm['未复发'] = cancerData['未复发']\n",
    "cancerDataNorm['A级'] = cancerData['A级']\n",
    "cancerDataNorm['B级'] = cancerData['B级']"
   ]
  },
  {
   "cell_type": "markdown",
   "metadata": {},
   "source": [
    "## Data Reduction"
   ]
  },
  {
   "cell_type": "markdown",
   "metadata": {},
   "source": [
    "## PCA"
   ]
  },
  {
   "cell_type": "code",
   "execution_count": 28,
   "metadata": {},
   "outputs": [],
   "source": [
    "pca = PCA(n_components=0.95)\n",
    "cancerDataNormPCA = pca.fit_transform(cancerDataNorm.iloc[:,:-3])"
   ]
  },
  {
   "cell_type": "code",
   "execution_count": 29,
   "metadata": {},
   "outputs": [
    {
     "data": {
      "text/plain": [
       "array([-1.87765156,  0.88903928,  0.13566197, -1.14099398,  0.31536618,\n",
       "       -1.20346123,  0.00965655,  0.30912752, -0.73181938, -0.24743851,\n",
       "        0.3603016 ,  0.47107549,  0.08486893,  0.77716798, -0.02730837,\n",
       "       -0.17529992,  0.09723337, -0.7798078 , -0.46821819, -0.15803593,\n",
       "        0.64797512,  0.3633814 , -0.43147405, -0.51563108,  0.63464244,\n",
       "        0.39494849,  0.12903353,  0.48822051, -0.19610489,  0.0024126 ,\n",
       "        1.3346169 , -0.84527815, -0.12302852])"
      ]
     },
     "execution_count": 29,
     "metadata": {},
     "output_type": "execute_result"
    }
   ],
   "source": [
    "cancerDataNormPCA[1]"
   ]
  },
  {
   "cell_type": "markdown",
   "metadata": {},
   "source": [
    "# Model Training and Prediction"
   ]
  },
  {
   "cell_type": "markdown",
   "metadata": {},
   "source": [
    "## Logistic Regression"
   ]
  },
  {
   "cell_type": "code",
   "execution_count": 30,
   "metadata": {},
   "outputs": [],
   "source": [
    "X = cancerDataNormPCA\n",
    "y = cancerDataNorm.iloc[:,-1]"
   ]
  },
  {
   "cell_type": "code",
   "execution_count": 31,
   "metadata": {},
   "outputs": [
    {
     "data": {
      "text/plain": [
       "(0.8707151305159002, 0.8780859216202712)"
      ]
     },
     "execution_count": 31,
     "metadata": {},
     "output_type": "execute_result"
    }
   ],
   "source": [
    "lrClassifier = LogisticRegression(penalty = 'l2')\n",
    "kf = KFold(n_splits=5)\n",
    "acc = list()\n",
    "auc = list()\n",
    "for train_index,test_index in kf.split(X):\n",
    "    \n",
    "    X_train,X_test = X[train_index],X[test_index]\n",
    "    y_train,y_test = y[train_index],y[test_index]\n",
    "    train_length = len(y_train)\n",
    "    if train_length >= 2*sum(y_train):\n",
    "        smo = SMOTE(sampling_strategy = {1:train_length-sum(y_train)},random_state = 100)\n",
    "    else:\n",
    "        smo = SMOTE(sampling_strategy = {0:sum(y_train)},random_state = 100)\n",
    "    X_smo,y_smo = smo.fit_sample(X_train,y_train)\n",
    "    lrClassifier.fit(X_smo,y_smo)\n",
    "    y_pred = lrClassifier.predict(X_test)\n",
    "    acc.append(accuracy_score(y_test,y_pred))\n",
    "    auc.append(roc_auc_score(y_test,y_pred))\n",
    "np.mean(acc),np.mean(auc)"
   ]
  },
  {
   "cell_type": "markdown",
   "metadata": {},
   "source": [
    "## SVM"
   ]
  },
  {
   "cell_type": "code",
   "execution_count": 32,
   "metadata": {},
   "outputs": [],
   "source": [
    "from sklearn import svm"
   ]
  },
  {
   "cell_type": "code",
   "execution_count": 33,
   "metadata": {},
   "outputs": [
    {
     "data": {
      "text/plain": [
       "(0.867843280971498, 0.8794122919431467)"
      ]
     },
     "execution_count": 33,
     "metadata": {},
     "output_type": "execute_result"
    }
   ],
   "source": [
    "SVMClassifier=svm.SVC(kernel='rbf',gamma=0.02,decision_function_shape='ovo',C=0.6)\n",
    "kf = KFold(n_splits=5)\n",
    "acc = list()\n",
    "auc = list()\n",
    "for train_index,test_index in kf.split(X):\n",
    "    X_train,X_test = X[train_index],X[test_index]\n",
    "    y_train,y_test = y[train_index],y[test_index]\n",
    "    train_length = len(y_train)\n",
    "    if train_length >= 2*sum(y_train):\n",
    "        smo = SMOTE(sampling_strategy = {1:train_length-sum(y_train)},random_state = 100)\n",
    "    else:\n",
    "        smo = SMOTE(sampling_strategy = {0:sum(y_train)},random_state = 100)\n",
    "    X_smo,y_smo = smo.fit_sample(X_train,y_train)\n",
    "    SVMClassifier.fit(X_smo,y_smo)\n",
    "    y_pred = SVMClassifier.predict(X_test)\n",
    "    acc.append(accuracy_score(y_test,y_pred))\n",
    "    auc.append(roc_auc_score(y_test,y_pred))\n",
    "np.mean(acc),np.mean(auc)"
   ]
  },
  {
   "cell_type": "markdown",
   "metadata": {},
   "source": [
    "# Decision Tree"
   ]
  },
  {
   "cell_type": "code",
   "execution_count": 34,
   "metadata": {},
   "outputs": [],
   "source": [
    "from sklearn.tree import DecisionTreeClassifier"
   ]
  },
  {
   "cell_type": "code",
   "execution_count": 35,
   "metadata": {},
   "outputs": [
    {
     "data": {
      "text/plain": [
       "(0.8072529193250155, 0.8054663018530824)"
      ]
     },
     "execution_count": 35,
     "metadata": {},
     "output_type": "execute_result"
    }
   ],
   "source": [
    "DClassifier=DecisionTreeClassifier()\n",
    "kf = KFold(n_splits=5)\n",
    "acc = list()\n",
    "auc = list()\n",
    "for train_index,test_index in kf.split(X):\n",
    "    X_train,X_test = X[train_index],X[test_index]\n",
    "    y_train,y_test = y[train_index],y[test_index]\n",
    "    train_length = len(y_train)\n",
    "    if train_length >= 2*sum(y_train):\n",
    "        smo = SMOTE(sampling_strategy = {1:train_length-sum(y_train)},random_state = 100)\n",
    "    else:\n",
    "        smo = SMOTE(sampling_strategy = {0:sum(y_train)},random_state = 100)\n",
    "    X_smo,y_smo = smo.fit_sample(X_train,y_train)\n",
    "    DClassifier.fit(X_smo,y_smo)\n",
    "    y_pred = DClassifier.predict(X_test)\n",
    "    acc.append(accuracy_score(y_test,y_pred))\n",
    "    auc.append(roc_auc_score(y_test,y_pred))\n",
    "np.mean(acc),np.mean(auc)"
   ]
  },
  {
   "cell_type": "markdown",
   "metadata": {},
   "source": [
    "# Random Forest"
   ]
  },
  {
   "cell_type": "code",
   "execution_count": 36,
   "metadata": {},
   "outputs": [],
   "source": [
    "from sklearn.ensemble import RandomForestClassifier"
   ]
  },
  {
   "cell_type": "code",
   "execution_count": 37,
   "metadata": {},
   "outputs": [
    {
     "data": {
      "text/plain": [
       "(0.8736236277923073, 0.8832634733581113)"
      ]
     },
     "execution_count": 37,
     "metadata": {},
     "output_type": "execute_result"
    }
   ],
   "source": [
    "RFClassifier=RandomForestClassifier()\n",
    "kf = KFold(n_splits=5)\n",
    "acc = list()\n",
    "auc = list()\n",
    "for train_index,test_index in kf.split(X):\n",
    "    X_train,X_test = X[train_index],X[test_index]\n",
    "    y_train,y_test = y[train_index],y[test_index]\n",
    "    train_length = len(y_train)\n",
    "    if train_length >= 2*sum(y_train):\n",
    "        smo = SMOTE(sampling_strategy = {1:train_length-sum(y_train)},random_state = 100)\n",
    "    else:\n",
    "        smo = SMOTE(sampling_strategy = {0:sum(y_train)},random_state = 100)\n",
    "    X_smo,y_smo = smo.fit_sample(X_train,y_train)\n",
    "    RFClassifier.fit(X_smo,y_smo)\n",
    "    y_pred = RFClassifier.predict(X_test)\n",
    "    acc.append(accuracy_score(y_test,y_pred))\n",
    "    auc.append(roc_auc_score(y_test,y_pred))\n",
    "np.mean(acc),np.mean(auc)"
   ]
  },
  {
   "cell_type": "markdown",
   "metadata": {},
   "source": [
    "# Perceptron"
   ]
  },
  {
   "cell_type": "code",
   "execution_count": 38,
   "metadata": {},
   "outputs": [],
   "source": [
    "from sklearn.linear_model import Perceptron"
   ]
  },
  {
   "cell_type": "code",
   "execution_count": 39,
   "metadata": {},
   "outputs": [
    {
     "data": {
      "text/plain": [
       "(0.7991954157018872, 0.7975880078262415)"
      ]
     },
     "execution_count": 39,
     "metadata": {},
     "output_type": "execute_result"
    }
   ],
   "source": [
    "PClassifier=Perceptron(max_iter = 1000, tol = None)\n",
    "kf = KFold(n_splits=5)\n",
    "acc = list()\n",
    "auc = list()\n",
    "for train_index,test_index in kf.split(X):\n",
    "    X_train,X_test = X[train_index],X[test_index]\n",
    "    y_train,y_test = y[train_index],y[test_index]\n",
    "    train_length = len(y_train)\n",
    "    if train_length >= 2*sum(y_train):\n",
    "        smo = SMOTE(sampling_strategy = {1:train_length-sum(y_train)},random_state = 100)\n",
    "    else:\n",
    "        smo = SMOTE(sampling_strategy = {0:sum(y_train)},random_state = 100)\n",
    "    X_smo,y_smo = smo.fit_sample(X_train,y_train)\n",
    "    PClassifier.fit(X_smo,y_smo)\n",
    "    y_pred = PClassifier.predict(X_test)\n",
    "    acc.append(accuracy_score(y_test,y_pred))\n",
    "    auc.append(roc_auc_score(y_test,y_pred))\n",
    "np.mean(acc),np.mean(auc)"
   ]
  },
  {
   "cell_type": "code",
   "execution_count": null,
   "metadata": {},
   "outputs": [],
   "source": []
  }
 ],
 "metadata": {
  "kernelspec": {
   "display_name": "Python 3",
   "language": "python",
   "name": "python3"
  },
  "language_info": {
   "codemirror_mode": {
    "name": "ipython",
    "version": 3
   },
   "file_extension": ".py",
   "mimetype": "text/x-python",
   "name": "python",
   "nbconvert_exporter": "python",
   "pygments_lexer": "ipython3",
   "version": "3.7.4"
  }
 },
 "nbformat": 4,
 "nbformat_minor": 2
}
