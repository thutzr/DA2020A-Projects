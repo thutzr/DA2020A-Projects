{
 "cells": [
  {
   "cell_type": "code",
   "execution_count": 1,
   "metadata": {},
   "outputs": [],
   "source": [
    "import matplotlib.pyplot as plt\n",
    "import numpy as np\n",
    "from sklearn.datasets import load_iris\n",
    "from sklearn.model_selection import train_test_split\n",
    "from sklearn.preprocessing import StandardScaler\n",
    "\n",
    "# 鸢尾花鸟数据集导入\n",
    "iris = load_iris()\n",
    "\n",
    "# X：鸢尾花鸟特征 Y：鸢尾花鸟标签\n",
    "X=iris.data\n",
    "y=iris.target\n",
    "\n",
    "y_sh = []\n",
    "for i in y:\n",
    "    if i==0:\n",
    "        y_sh.append([1,0,0])\n",
    "    if i==1:\n",
    "        y_sh.append([0,1,0])\n",
    "    if i==2:\n",
    "        y_sh.append([0,0,1])\n",
    "y_sh = np.array(y_sh)\n",
    "X_train,X_test,y_train,y_test=train_test_split(X,y_sh,test_size=0.3,random_state=0)\n",
    "\n",
    "# 数据标准化\n",
    "sc=StandardScaler()\n",
    "sc.fit(X_train)\n",
    "X_train_std=sc.transform(X_train)\n",
    "X_test_std=sc.transform(X_test)"
   ]
  },
  {
   "cell_type": "code",
   "execution_count": 2,
   "metadata": {
    "scrolled": true
   },
   "outputs": [
    {
     "name": "stderr",
     "output_type": "stream",
     "text": [
      "Using TensorFlow backend.\n"
     ]
    },
    {
     "name": "stdout",
     "output_type": "stream",
     "text": [
      "_________________________________________________________________\n",
      "Layer (type)                 Output Shape              Param #   \n",
      "=================================================================\n",
      "dense_1 (Dense)              (None, 10)                50        \n",
      "_________________________________________________________________\n",
      "dense_2 (Dense)              (None, 10)                110       \n",
      "_________________________________________________________________\n",
      "dense_3 (Dense)              (None, 3)                 33        \n",
      "=================================================================\n",
      "Total params: 193\n",
      "Trainable params: 193\n",
      "Non-trainable params: 0\n",
      "_________________________________________________________________\n",
      "Epoch 1/30\n",
      "105/105 [==============================] - 0s 3ms/step - loss: 1.0458 - acc: 0.3238\n",
      "Epoch 2/30\n",
      "105/105 [==============================] - 0s 76us/step - loss: 1.0198 - acc: 0.3333\n",
      "Epoch 3/30\n",
      "105/105 [==============================] - 0s 86us/step - loss: 0.9942 - acc: 0.3333\n",
      "Epoch 4/30\n",
      "105/105 [==============================] - 0s 67us/step - loss: 0.9716 - acc: 0.3333\n",
      "Epoch 5/30\n",
      "105/105 [==============================] - 0s 95us/step - loss: 0.9495 - acc: 0.3333\n",
      "Epoch 6/30\n",
      "105/105 [==============================] - 0s 86us/step - loss: 0.9279 - acc: 0.3333\n",
      "Epoch 7/30\n",
      "105/105 [==============================] - 0s 76us/step - loss: 0.9090 - acc: 0.3238\n",
      "Epoch 8/30\n",
      "105/105 [==============================] - 0s 81us/step - loss: 0.8924 - acc: 0.3714\n",
      "Epoch 9/30\n",
      "105/105 [==============================] - 0s 72us/step - loss: 0.8761 - acc: 0.3905\n",
      "Epoch 10/30\n",
      "105/105 [==============================] - 0s 76us/step - loss: 0.8606 - acc: 0.4381\n",
      "Epoch 11/30\n",
      "105/105 [==============================] - 0s 67us/step - loss: 0.8455 - acc: 0.4952\n",
      "Epoch 12/30\n",
      "105/105 [==============================] - 0s 86us/step - loss: 0.8321 - acc: 0.5238\n",
      "Epoch 13/30\n",
      "105/105 [==============================] - 0s 86us/step - loss: 0.8199 - acc: 0.5714\n",
      "Epoch 14/30\n",
      "105/105 [==============================] - 0s 76us/step - loss: 0.8075 - acc: 0.6000\n",
      "Epoch 15/30\n",
      "105/105 [==============================] - 0s 76us/step - loss: 0.7961 - acc: 0.6190\n",
      "Epoch 16/30\n",
      "105/105 [==============================] - 0s 67us/step - loss: 0.7852 - acc: 0.6381\n",
      "Epoch 17/30\n",
      "105/105 [==============================] - 0s 86us/step - loss: 0.7753 - acc: 0.6381\n",
      "Epoch 18/30\n",
      "105/105 [==============================] - 0s 91us/step - loss: 0.7656 - acc: 0.6476\n",
      "Epoch 19/30\n",
      "105/105 [==============================] - 0s 76us/step - loss: 0.7563 - acc: 0.6476\n",
      "Epoch 20/30\n",
      "105/105 [==============================] - 0s 88us/step - loss: 0.7467 - acc: 0.6476\n",
      "Epoch 21/30\n",
      "105/105 [==============================] - 0s 86us/step - loss: 0.7383 - acc: 0.6476\n",
      "Epoch 22/30\n",
      "105/105 [==============================] - 0s 76us/step - loss: 0.7290 - acc: 0.6762\n",
      "Epoch 23/30\n",
      "105/105 [==============================] - 0s 105us/step - loss: 0.7206 - acc: 0.6762\n",
      "Epoch 24/30\n",
      "105/105 [==============================] - 0s 95us/step - loss: 0.7126 - acc: 0.6762\n",
      "Epoch 25/30\n",
      "105/105 [==============================] - 0s 86us/step - loss: 0.7043 - acc: 0.6762\n",
      "Epoch 26/30\n",
      "105/105 [==============================] - 0s 86us/step - loss: 0.6970 - acc: 0.6857\n",
      "Epoch 27/30\n",
      "105/105 [==============================] - 0s 76us/step - loss: 0.6899 - acc: 0.6952\n",
      "Epoch 28/30\n",
      "105/105 [==============================] - 0s 81us/step - loss: 0.6837 - acc: 0.7048\n",
      "Epoch 29/30\n",
      "105/105 [==============================] - 0s 67us/step - loss: 0.6766 - acc: 0.7048\n",
      "Epoch 30/30\n",
      "105/105 [==============================] - 0s 76us/step - loss: 0.6704 - acc: 0.7048\n"
     ]
    },
    {
     "data": {
      "text/plain": [
       "<keras.callbacks.History at 0x127c161f6a0>"
      ]
     },
     "execution_count": 2,
     "metadata": {},
     "output_type": "execute_result"
    }
   ],
   "source": [
    "from keras import models\n",
    "from keras import layers\n",
    "\n",
    "model = models.Sequential()\n",
    "model.add(layers.Dense(10, activation='relu', input_shape=(4, )))\n",
    "model.add(layers.Dense(10, activation='relu'))\n",
    "model.add(layers.Dense(3, activation='softmax'))\n",
    "model.summary()\n",
    "\n",
    "model.compile(optimizer='sgd',\n",
    "                loss='categorical_crossentropy',\n",
    "                metrics=['accuracy'])\n",
    "model.fit(X_train_std, y_train, epochs=30)"
   ]
  },
  {
   "cell_type": "code",
   "execution_count": 3,
   "metadata": {},
   "outputs": [
    {
     "name": "stdout",
     "output_type": "stream",
     "text": [
      "45/45 [==============================] - 0s 646us/step\n"
     ]
    }
   ],
   "source": [
    "# 提取出准确率\n",
    "loss, acc = model.evaluate(X_test_std, y_test)\n",
    "y_pred = model.predict(X_test_std)"
   ]
  },
  {
   "cell_type": "code",
   "execution_count": 4,
   "metadata": {},
   "outputs": [
    {
     "data": {
      "text/plain": [
       "0.6222222261958652"
      ]
     },
     "execution_count": 4,
     "metadata": {},
     "output_type": "execute_result"
    }
   ],
   "source": [
    "# 输出准确率\n",
    "acc"
   ]
  },
  {
   "cell_type": "code",
   "execution_count": 12,
   "metadata": {},
   "outputs": [
    {
     "data": {
      "text/plain": [
       "<matplotlib.collections.PathCollection at 0x127c3f0fd30>"
      ]
     },
     "execution_count": 12,
     "metadata": {},
     "output_type": "execute_result"
    },
    {
     "data": {
      "image/png": "[encoded data removed]",
      "text/plain": [
       "<matplotlib.figure.Figure at 0x127c3ec8278>"
      ]
     },
     "metadata": {},
     "output_type": "display_data"
    }
   ],
   "source": [
    "# 画出原始分类情况\n",
    "plt.scatter(X_test[:,2], X_test[:,3], c=y_test)"
   ]
  },
  {
   "cell_type": "code",
   "execution_count": 9,
   "metadata": {},
   "outputs": [
    {
     "data": {
      "text/plain": [
       "<matplotlib.collections.PathCollection at 0x127c3d1b7b8>"
      ]
     },
     "execution_count": 9,
     "metadata": {},
     "output_type": "execute_result"
    },
    {
     "data": {
      "image/png": "[encoded data removed]",
      "text/plain": [
       "<matplotlib.figure.Figure at 0x127c1ac77f0>"
      ]
     },
     "metadata": {},
     "output_type": "display_data"
    }
   ],
   "source": [
    "# 画出预测结果的分类情况\n",
    "plt.scatter(X_test[:,2], X_test[:,3], c=y_pred)"
   ]
  },
  {
   "cell_type": "code",
   "execution_count": null,
   "metadata": {},
   "outputs": [],
   "source": []
  }
 ],
 "metadata": {
  "kernelspec": {
   "display_name": "Python 3",
   "language": "python",
   "name": "python3"
  },
  "language_info": {
   "codemirror_mode": {
    "name": "ipython",
    "version": 3
   },
   "file_extension": ".py",
   "mimetype": "text/x-python",
   "name": "python",
   "nbconvert_exporter": "python",
   "pygments_lexer": "ipython3",
   "version": "3.7.4"
  }
 },
 "nbformat": 4,
 "nbformat_minor": 2
}
